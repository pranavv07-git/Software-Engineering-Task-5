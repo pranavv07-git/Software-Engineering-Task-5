{
  "nbformat": 4,
  "nbformat_minor": 0,
  "metadata": {
    "colab": {
      "provenance": [],
      "authorship_tag": "ABX9TyOOf3mGCGifTfvmy5XLAHJm",
      "include_colab_link": true
    },
    "kernelspec": {
      "name": "python3",
      "display_name": "Python 3"
    },
    "language_info": {
      "name": "python"
    }
  },
  "cells": [
    {
      "cell_type": "markdown",
      "metadata": {
        "id": "view-in-github",
        "colab_type": "text"
      },
      "source": [
        "<a href=\"https://colab.research.google.com/github/pranavv07-git/Software-Engineering-Task-5/blob/main/COMPUTER_ENGINEERING_TASK_5_V_PRANAV_0960.ipynb\" target=\"_parent\"><img src=\"https://colab.research.google.com/assets/colab-badge.svg\" alt=\"Open In Colab\"/></a>"
      ]
    },
    {
      "cell_type": "code",
      "source": [
        "import math\n",
        "def quadratic_weather_model(a, b, c):\n",
        "  temperature = a * t**2 + b * t + c\n",
        "  return temperature"
      ],
      "metadata": {
        "id": "OxXknH1q4pzc"
      },
      "execution_count": 19,
      "outputs": []
    },
    {
      "cell_type": "code",
      "source": [
        "# Hard-coded variables\n",
        "print(\"-\" * 30)\n",
        "print(\"Hard-coded variables:\")\n",
        "a_hc = 0.9\n",
        "b_hc = -2\n",
        "c_hc = 10\n",
        "t=5\n",
        "temperature_hc = quadratic_weather_model(a_hc, b_hc, c_hc)\n",
        "print(f\"Temperature at {t} hours: {temperature_hc:.2f} degrees\")"
      ],
      "metadata": {
        "colab": {
          "base_uri": "https://localhost:8080/"
        },
        "id": "CNF6Jbln4rQD",
        "outputId": "9f6f0464-5a2b-4041-c57e-014c192f6567"
      },
      "execution_count": 35,
      "outputs": [
        {
          "output_type": "stream",
          "name": "stdout",
          "text": [
            "------------------------------\n",
            "Hard-coded variables:\n",
            "Temperature at 5 hours: 22.50 degrees\n"
          ]
        }
      ]
    },
    {
      "cell_type": "code",
      "source": [
        "# Keyboard input\n",
        "print(\"-\" * 30)\n",
        "print(\"Keyboard input:\")\n",
        "a_kb = float(input(\"Enter the coefficient a: \"))\n",
        "b_kb = float(input(\"Enter the coefficient b: \"))\n",
        "c_kb = float(input(\"Enter the coefficient c: \"))\n",
        "temperature_kb = quadratic_weather_model(a_kb, b_kb, c_kb)\n",
        "print(f\"Temperature at {t} hours: {temperature_kb:.2f} degrees\")"
      ],
      "metadata": {
        "colab": {
          "base_uri": "https://localhost:8080/"
        },
        "id": "t8Zp_XZL5wnM",
        "outputId": "8761b7f5-8579-41f4-d0ef-0a3f674542fb"
      },
      "execution_count": 36,
      "outputs": [
        {
          "output_type": "stream",
          "name": "stdout",
          "text": [
            "------------------------------\n",
            "Keyboard input:\n",
            "Enter the coefficient a: 0.7\n",
            "Enter the coefficient b: -1.9\n",
            "Enter the coefficient c: 8\n",
            "Temperature at 5 hours: 16.00 degrees\n"
          ]
        }
      ]
    },
    {
      "cell_type": "code",
      "source": [
        "# Read from a file\n",
        "print(\"-\" * 30)\n",
        "print(\"Read from file:\")\n",
        "with open(\"weather_data.txt\", \"r\") as f:\n",
        "  data = f.read().splitlines()\n",
        "  a_file = float(data[0])\n",
        "  b_file = float(data[1])\n",
        "  c_file = float(data[2])\n",
        "  temperature_file = quadratic_weather_model(a_file, b_file, c_file)\n",
        "  print(f\"Temperature at {t} hours: {temperature_file:.2f} degrees\")"
      ],
      "metadata": {
        "colab": {
          "base_uri": "https://localhost:8080/"
        },
        "id": "F7hbUL0m6m-8",
        "outputId": "ca171caa-7df8-42d0-fb1a-d5456c27a649"
      },
      "execution_count": 37,
      "outputs": [
        {
          "output_type": "stream",
          "name": "stdout",
          "text": [
            "------------------------------\n",
            "Read from file:\n",
            "Temperature at 5 hours: 22.50 degrees\n"
          ]
        }
      ]
    },
    {
      "cell_type": "code",
      "source": [
        "# Multiple sets of input\n",
        "print(\"-\" * 30)\n",
        "print(\"Multiple sets of input:\")\n",
        "num_sets = int(input(\"Enter the number of data sets: \"))\n",
        "for i in range(num_sets):\n",
        "  print(f\"\\nData set {i + 1}:\")\n",
        "  a = float(input(\"Enter the coefficient a: \"))\n",
        "  b = float(input(\"Enter the coefficient b: \"))\n",
        "  c = float(input(\"Enter the coefficient c: \"))\n",
        "  temperature = quadratic_weather_model(a, b, c)\n",
        "  print(f\"Temperature at {t} hours: {temperature:.2f} degrees\")"
      ],
      "metadata": {
        "colab": {
          "base_uri": "https://localhost:8080/"
        },
        "id": "o5MWGh7u7TY9",
        "outputId": "4b4b8225-f335-40d2-e38f-47bf55eac626"
      },
      "execution_count": 39,
      "outputs": [
        {
          "output_type": "stream",
          "name": "stdout",
          "text": [
            "------------------------------\n",
            "Multiple sets of input:\n",
            "Enter the number of data sets: 2\n",
            "\n",
            "Data set 1:\n",
            "Enter the coefficient a: 1\n",
            "Enter the coefficient b: -1.8\n",
            "Enter the coefficient c: 8\n",
            "Temperature at 5 hours: 24.00 degrees\n",
            "\n",
            "Data set 2:\n",
            "Enter the coefficient a: 0.7\n",
            "Enter the coefficient b: -1.9\n",
            "Enter the coefficient c: 9\n",
            "Temperature at 5 hours: 17.00 degrees\n"
          ]
        }
      ]
    }
  ]
}